{
  "nbformat": 4,
  "nbformat_minor": 0,
  "metadata": {
    "colab": {
      "provenance": [],
      "authorship_tag": "ABX9TyOgxhUSiEJaBFt9ItRrOSsz",
      "include_colab_link": true
    },
    "kernelspec": {
      "name": "python3",
      "display_name": "Python 3"
    },
    "language_info": {
      "name": "python"
    }
  },
  "cells": [
    {
      "cell_type": "markdown",
      "metadata": {
        "id": "view-in-github",
        "colab_type": "text"
      },
      "source": [
        "<a href=\"https://colab.research.google.com/github/P-Sai-Vinitha/192125090_CLOUD/blob/main/CFG.ipynb\" target=\"_parent\"><img src=\"https://colab.research.google.com/assets/colab-badge.svg\" alt=\"Open In Colab\"/></a>"
      ]
    },
    {
      "cell_type": "code",
      "execution_count": null,
      "metadata": {
        "id": "uW4_-4FS21qq"
      },
      "outputs": [],
      "source": [
        "import nltk\n",
        "from nltk.parse.generate import generate"
      ]
    },
    {
      "cell_type": "code",
      "source": [
        "\n",
        "from nltk import CFG\n",
        "\n",
        "grammar = CFG.fromstring(\"\"\"\n",
        "S -> NP VP\n",
        "NP -> Det N\n",
        "Det -> 'the' | 'a'\n",
        "N -> 'cat' | 'dog' | 'house'\n",
        "VP -> V NP\n",
        "V -> 'chased' | 'saw'\n",
        "\"\"\")\n",
        "\n",
        "parser = nltk.ChartParser(grammar)\n",
        "sentence = \"the cat chased a dog\"\n",
        "tokens = sentence.split()\n",
        "\n",
        "for tree in parser.parse(tokens):\n",
        "    tree.pretty_print()\n",
        "\n"
      ],
      "metadata": {
        "colab": {
          "base_uri": "https://localhost:8080/"
        },
        "id": "k010yot53l3Y",
        "outputId": "4516aec7-357c-4f34-ed59-0a7ba000805f"
      },
      "execution_count": null,
      "outputs": [
        {
          "output_type": "stream",
          "name": "stdout",
          "text": [
            "              S               \n",
            "      ________|_____           \n",
            "     |              VP        \n",
            "     |         _____|___       \n",
            "     NP       |         NP    \n",
            "  ___|___     |      ___|___   \n",
            "Det      N    V    Det      N \n",
            " |       |    |     |       |  \n",
            "the     cat chased  a      dog\n",
            "\n"
          ]
        }
      ]
    },
    {
      "cell_type": "code",
      "source": [
        "\n",
        "import nltk\n",
        "from nltk import CFG\n",
        "from nltk.parse.generate import generate\n",
        "grammar = CFG.fromstring(\"\"\"\n",
        "S -> NP VP\n",
        "NP -> Pronoun\n",
        "VP -> Verb | Verb PP\n",
        "PP -> Preposition NP\n",
        "Verb -> 'ran'\n",
        "Pronoun -> 'she'\n",
        "Adjective -> 'quickly' | 'silently'\n",
        "Conjunction -> 'and'\n",
        "Determiner -> 'the'\n",
        "Preposition -> 'to'\n",
        "Noun -> 'store'\n",
        "\"\"\")\n",
        "\n",
        "parser = nltk.ChartParser(grammar)\n",
        "\n",
        "sentence = \"she quickly and silently ran to the store\"\n",
        "tokens = sentence.split()\n",
        "\n",
        "for tree in parser.parse(tokens):\n",
        "    tree.pretty_print()\n"
      ],
      "metadata": {
        "id": "7H1GXQOW5xts"
      },
      "execution_count": null,
      "outputs": []
    },
    {
      "cell_type": "code",
      "source": [],
      "metadata": {
        "id": "4mEY_7zk99t8"
      },
      "execution_count": null,
      "outputs": []
    },
    {
      "cell_type": "code",
      "source": [],
      "metadata": {
        "id": "LQh-XH2u-Iee"
      },
      "execution_count": null,
      "outputs": []
    }
  ]
}